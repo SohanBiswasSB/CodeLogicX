{
 "cells": [
  {
   "cell_type": "code",
   "execution_count": null,
   "id": "600b27e5-497d-4d1a-a900-00748c2ff297",
   "metadata": {},
   "outputs": [],
   "source": [
    "\"\"\"\n",
    "\n",
    "6. Print below output: (input row=5)\n",
    "1\n",
    "2 3\n",
    "4 5 6\n",
    "7 8 9 10\n",
    "11 12 13 14 15\n",
    "\n",
    "\n",
    "\"\"\""
   ]
  },
  {
   "cell_type": "code",
   "execution_count": 1,
   "id": "008634ad-7884-400f-8053-cdea8037f4dd",
   "metadata": {},
   "outputs": [
    {
     "name": "stdin",
     "output_type": "stream",
     "text": [
      " 6\n"
     ]
    },
    {
     "name": "stdout",
     "output_type": "stream",
     "text": [
      "1\n",
      "23\n",
      "456\n",
      "78910\n",
      "1112131415\n",
      "161718192021\n"
     ]
    }
   ],
   "source": [
    "def numpattern(n):\n",
    "    num=1\n",
    "    for i in range (0,n):\n",
    "        for j in range(0,i+1):\n",
    "            print(num,end=\"\")\n",
    "            num+=1\n",
    "            \n",
    "            \n",
    "        print(\"\\r\")\n",
    "n=int(input())\n",
    "numpattern(n)"
   ]
  },
  {
   "cell_type": "code",
   "execution_count": null,
   "id": "0ab233df-fc5a-4cb9-9ce2-e4533415b8bf",
   "metadata": {},
   "outputs": [],
   "source": []
  }
 ],
 "metadata": {
  "kernelspec": {
   "display_name": "Python 3 (ipykernel)",
   "language": "python",
   "name": "python3"
  },
  "language_info": {
   "codemirror_mode": {
    "name": "ipython",
    "version": 3
   },
   "file_extension": ".py",
   "mimetype": "text/x-python",
   "name": "python",
   "nbconvert_exporter": "python",
   "pygments_lexer": "ipython3",
   "version": "3.9.6"
  }
 },
 "nbformat": 4,
 "nbformat_minor": 5
}
