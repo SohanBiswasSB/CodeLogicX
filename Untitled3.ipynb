{
 "cells": [
  {
   "cell_type": "code",
   "execution_count": null,
   "id": "37d97e58-5221-4292-963a-77133d28a90f",
   "metadata": {},
   "outputs": [],
   "source": [
    "\n",
    "\"\"\"\n",
    "\n",
    "4. Chocolate Distribution\n",
    "Given an array A[ ] of positive integers of size N, \n",
    "where each value represents the\n",
    "number of chocolates in a packet. \n",
    "Each packet can have a variable number of\n",
    "chocolates. There are M students,\n",
    "the task is to distribute chocolate packets among M\n",
    "students such that :\n",
    "1. Each student gets exactly one packet.\n",
    "2. The difference between maximum number of chocolates\n",
    "given to a student and\n",
    "minimum number of chocolates given to a student is minimum.\n",
    "Example:\n",
    "Input:\n",
    "N = 8, M = 5\n",
    "A = {3, 4, 1, 9, 56, 7, 9, 12}\n",
    "Output: 6\n",
    "Explanation: The minimum difference between maximum chocolates and\n",
    "minimum chocolates\n",
    "is 9 - 3 = 6 by choosing following M packets : {3, 4, 9, 7, 9}.\n",
    "\n",
    "\n",
    "\"\"\""
   ]
  },
  {
   "cell_type": "code",
   "execution_count": 2,
   "id": "1c073519-ed17-41c6-8609-be6eec324c75",
   "metadata": {},
   "outputs": [
    {
     "name": "stdin",
     "output_type": "stream",
     "text": [
      " 8\n",
      " 3\n",
      " 4\n",
      " 1\n",
      " 9\n",
      " 56\n",
      " 7\n",
      " 9\n",
      " 12\n",
      " 5\n"
     ]
    },
    {
     "name": "stdout",
     "output_type": "stream",
     "text": [
      "Minimum difference is 6\n"
     ]
    }
   ],
   "source": [
    "def findMinDiff(arr, n, m):\n",
    " \n",
    "    # if there are no chocolates or number\n",
    "    # of students is 0\n",
    "    if (m==0 or n==0):\n",
    "        return 0\n",
    " \n",
    "    # Sort the given packets\n",
    "    arr.sort()\n",
    " \n",
    "    # Number of students cannot be more than\n",
    "    # number of packets\n",
    "    if (n < m):\n",
    "        return -1\n",
    " \n",
    "    # Largest number of chocolates\n",
    "    min_diff = arr[n-1] - arr[0]\n",
    " \n",
    "    # Find the subarray of size m such that\n",
    "    # difference between last (maximum in case\n",
    "    # of sorted) and first (minimum in case of\n",
    "    # sorted) elements of subarray is minimum.\n",
    "    for i in range(len(arr) - m + 1):\n",
    "        min_diff = min(min_diff ,  arr[i + m - 1] - arr[i])\n",
    "     \n",
    "         \n",
    "    return min_diff\n",
    " \n",
    "# Driver Code\n",
    "if __name__ == \"__main__\":\n",
    "    size=int(input())\n",
    "    arr=[]\n",
    "    for i in range(0,size):\n",
    "        ele=int(input())\n",
    "        arr.append(ele)\n",
    "    m = int(input()) # Number of students\n",
    "    n = len(arr)\n",
    "    print(\"Minimum difference is\", findMinDiff(arr, n, m))"
   ]
  },
  {
   "cell_type": "code",
   "execution_count": null,
   "id": "da32876d-f81f-4b44-9334-8bf17eeee235",
   "metadata": {},
   "outputs": [],
   "source": []
  }
 ],
 "metadata": {
  "kernelspec": {
   "display_name": "Python 3 (ipykernel)",
   "language": "python",
   "name": "python3"
  },
  "language_info": {
   "codemirror_mode": {
    "name": "ipython",
    "version": 3
   },
   "file_extension": ".py",
   "mimetype": "text/x-python",
   "name": "python",
   "nbconvert_exporter": "python",
   "pygments_lexer": "ipython3",
   "version": "3.9.6"
  }
 },
 "nbformat": 4,
 "nbformat_minor": 5
}
