{
 "cells": [
  {
   "cell_type": "code",
   "execution_count": null,
   "id": "9a847dd8-afe0-4fbc-bfc8-74e88934a864",
   "metadata": {},
   "outputs": [],
   "source": [
    "\"\"\"\n",
    "5.Write a function to transpose of the following associative array:\n",
    "Input array:\n",
    "[\n",
    " ['one' => 1, 'two' => 2],\n",
    " ['one' => 11, 'two' => 22],\n",
    " ['one' => 111, 'two' => 222],\n",
    " ]\n",
    "Output should be:\n",
    "[\n",
    " 'one' => [1, 11, 111],\n",
    " 'two' => [2, 22, 222],\n",
    " ];\n",
    "\n",
    "\n",
    "\n",
    "\"\"\""
   ]
  },
  {
   "cell_type": "code",
   "execution_count": 3,
   "id": "f2b01c98-1c3a-4d71-a5dc-0ee7195766e6",
   "metadata": {},
   "outputs": [
    {
     "name": "stdout",
     "output_type": "stream",
     "text": [
      "[1, 2]\n",
      "[3, 4]\n",
      "[5, 6]\n",
      "\n",
      "\n",
      "[1, 3, 5]\n",
      "[2, 4, 6]\n"
     ]
    }
   ],
   "source": [
    "m = [[1,2],[3,4],[5,6]]\n",
    "for row in m :\n",
    "    print(row)\n",
    "rez = [[m[j][i] for j in range(len(m))] for i in range(len(m[0]))]\n",
    "print(\"\\n\")\n",
    "for row in rez:\n",
    "    print(row)"
   ]
  },
  {
   "cell_type": "code",
   "execution_count": null,
   "id": "43d0ecde-5363-4da6-9b93-22aacf8ee58a",
   "metadata": {},
   "outputs": [],
   "source": []
  }
 ],
 "metadata": {
  "kernelspec": {
   "display_name": "Python 3 (ipykernel)",
   "language": "python",
   "name": "python3"
  },
  "language_info": {
   "codemirror_mode": {
    "name": "ipython",
    "version": 3
   },
   "file_extension": ".py",
   "mimetype": "text/x-python",
   "name": "python",
   "nbconvert_exporter": "python",
   "pygments_lexer": "ipython3",
   "version": "3.9.6"
  }
 },
 "nbformat": 4,
 "nbformat_minor": 5
}
