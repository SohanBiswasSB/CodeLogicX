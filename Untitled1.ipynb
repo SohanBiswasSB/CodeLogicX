{
 "cells": [
  {
   "cell_type": "code",
   "execution_count": null,
   "id": "40f54401-81ef-473f-99f2-1eded1663902",
   "metadata": {},
   "outputs": [],
   "source": [
    "\"\"\"\n",
    "2. Find Minimum number of Coins\n",
    "Given an infinite supply of each denomination of Indian currency { 1, 2, 5, 10, 20, 50,\n",
    "100, 200, 500, 2000 } and a target value N.\n",
    "Find the minimum number of coins and/or notes needed to make the change for Rs N.\n",
    "Example:\n",
    "Input: N = 43\n",
    "Output: 20 20 2 1\n",
    "Explaination:\n",
    "Minimum number of coins and notes needed\n",
    "to make 43.\n",
    "\n",
    "\n",
    "\"\"\""
   ]
  },
  {
   "cell_type": "code",
   "execution_count": 1,
   "id": "60985aa6-639b-4e6c-8c43-8bebf8d9c80e",
   "metadata": {},
   "outputs": [
    {
     "name": "stdin",
     "output_type": "stream",
     "text": [
      "Enter value of N: 43\n"
     ]
    },
    {
     "name": "stdout",
     "output_type": "stream",
     "text": [
      "Following is minimal number of change for 43 : 20 20 2 1 "
     ]
    }
   ],
   "source": [
    "def coinchange(N):\n",
    "    coins = [1, 2, 5, 10, 20, 50, 100, 500, 1000]\n",
    "    n = len(coins)\n",
    "    \n",
    "    changes = []\n",
    "    \n",
    "    i = n - 1\n",
    "    while(i >= 0):\n",
    "        while (N >= coins[i]):\n",
    "            N -= coins[i]\n",
    "            changes.append(coins[i])\n",
    "        i -= 1\n",
    " \n",
    "    for i in range(len(changes)):\n",
    "        print(changes[i], end = \" \")\n",
    " \n",
    "\n",
    "if __name__ == '__main__':\n",
    "    N =int(input(\"Enter value of N:\"))\n",
    "    print(\"Following is minimal number\",\n",
    "          \"of change for\", N, \": \", end = \"\")\n",
    "    coinchange(N)"
   ]
  },
  {
   "cell_type": "code",
   "execution_count": null,
   "id": "5f27eff0-a2c0-433e-bbb3-3de631d54682",
   "metadata": {},
   "outputs": [],
   "source": []
  }
 ],
 "metadata": {
  "kernelspec": {
   "display_name": "Python 3 (ipykernel)",
   "language": "python",
   "name": "python3"
  },
  "language_info": {
   "codemirror_mode": {
    "name": "ipython",
    "version": 3
   },
   "file_extension": ".py",
   "mimetype": "text/x-python",
   "name": "python",
   "nbconvert_exporter": "python",
   "pygments_lexer": "ipython3",
   "version": "3.9.6"
  }
 },
 "nbformat": 4,
 "nbformat_minor": 5
}
