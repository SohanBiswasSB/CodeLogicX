{
 "cells": [
  {
   "cell_type": "code",
   "execution_count": null,
   "id": "b091bc43-fb42-4718-b200-d1f50f7cb852",
   "metadata": {},
   "outputs": [],
   "source": [
    "\"\"\"\n",
    "9. Write a Program to print values by spirally traversing a n X n matrix. (Input : n=4)\n",
    "Input:\n",
    "1 2 3 4\n",
    "5 6 7 8\n",
    "9 10 11 12\n",
    "13 14 15 16\n",
    "Output: 1 2 3 4 8 12 16 15 14 13 9 5 6 7 11 10\n",
    "\n",
    "\n",
    "\"\"\""
   ]
  },
  {
   "cell_type": "code",
   "execution_count": 2,
   "id": "1f43de9c-a0a4-4b6d-b55e-a7dad75838e7",
   "metadata": {},
   "outputs": [
    {
     "name": "stdin",
     "output_type": "stream",
     "text": [
      "Enter the number of rows: 3\n",
      "Enter the number of columns: 3\n"
     ]
    },
    {
     "name": "stdout",
     "output_type": "stream",
     "text": [
      "Enter the entries rowwise:\n"
     ]
    },
    {
     "name": "stdin",
     "output_type": "stream",
     "text": [
      " 1\n",
      " 2\n",
      " 3\n",
      " 4\n",
      " 5\n",
      " 6\n",
      " 7\n",
      " 8\n",
      " 9\n"
     ]
    },
    {
     "name": "stdout",
     "output_type": "stream",
     "text": [
      "1 2 3 \n",
      "4 5 6 \n",
      "7 8 9 \n"
     ]
    }
   ],
   "source": [
    "R = int(input(\"Enter the number of rows:\"))\n",
    "C = int(input(\"Enter the number of columns:\"))\n",
    "  \n",
    "# Initialize matrix\n",
    "matrix = []\n",
    "print(\"Enter the entries rowwise:\")\n",
    "  \n",
    "# For user input\n",
    "for i in range(R):          # A for loop for row entries\n",
    "    a =[]\n",
    "    for j in range(C):      # A for loop for column entries\n",
    "         a.append(int(input()))\n",
    "    matrix.append(a)\n",
    "  \n",
    "# For printing the matrix\n",
    "for i in range(R):\n",
    "    for j in range(C):\n",
    "        print(matrix[i][j], end = \" \")\n",
    "    print()"
   ]
  },
  {
   "cell_type": "code",
   "execution_count": 3,
   "id": "d9e524b8-d2ce-4341-9ec4-ea2974af1655",
   "metadata": {},
   "outputs": [
    {
     "name": "stdout",
     "output_type": "stream",
     "text": [
      "1 2 3 6 9 8 7 4 5 "
     ]
    }
   ],
   "source": [
    "def printSpiralOrder(mat):\n",
    " \n",
    "    top = left = 0\n",
    "    bottom = len(mat) - 1\n",
    "    right = len(mat[0]) - 1\n",
    " \n",
    "    while True:\n",
    "        if left > right:\n",
    "            break\n",
    " \n",
    "        # print top row\n",
    "        for i in range(left, right + 1):\n",
    "            print(mat[top][i], end=' ')\n",
    "        top = top + 1\n",
    " \n",
    "        if top > bottom:\n",
    "            break\n",
    " \n",
    "        # print right column\n",
    "        for i in range(top, bottom + 1):\n",
    "            print(mat[i][right], end=' ')\n",
    "        right = right - 1\n",
    " \n",
    "        if left > right:\n",
    "            break\n",
    " \n",
    "        # print bottom row\n",
    "        for i in range(right, left - 1, -1):\n",
    "            print(mat[bottom][i], end=' ')\n",
    "        bottom = bottom - 1\n",
    " \n",
    "        if top > bottom:\n",
    "            break\n",
    " \n",
    "        # print left column\n",
    "        for i in range(bottom, top - 1, -1):\n",
    "            print(mat[i][left], end=' ')\n",
    "        left = left + 1\n",
    " \n",
    " \n",
    "if __name__ == '__main__':\n",
    "    printSpiralOrder(matrix)\n",
    " \n",
    "\n",
    "\n"
   ]
  },
  {
   "cell_type": "code",
   "execution_count": null,
   "id": "eab71120-aec8-445d-a395-00e2ba4c76e7",
   "metadata": {},
   "outputs": [],
   "source": []
  }
 ],
 "metadata": {
  "kernelspec": {
   "display_name": "Python 3 (ipykernel)",
   "language": "python",
   "name": "python3"
  },
  "language_info": {
   "codemirror_mode": {
    "name": "ipython",
    "version": 3
   },
   "file_extension": ".py",
   "mimetype": "text/x-python",
   "name": "python",
   "nbconvert_exporter": "python",
   "pygments_lexer": "ipython3",
   "version": "3.9.6"
  }
 },
 "nbformat": 4,
 "nbformat_minor": 5
}
