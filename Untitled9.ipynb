{
 "cells": [
  {
   "cell_type": "code",
   "execution_count": null,
   "id": "63c80a74-ed35-46dd-a7f4-72ea3e20ca5a",
   "metadata": {},
   "outputs": [],
   "source": [
    "\"\"\"\n",
    "\n",
    "10. What will be the output of $a and $b?\n",
    "<?php\n",
    "$a = 0;\n",
    "$b = 0;\n",
    "for( $i = 0; $i<5; $i++ ) {\n",
    " $a += 10;\n",
    " $b += 5;\n",
    "}\n",
    "echo $a;\n",
    "echo $b;\n",
    "?>\n",
    "\n",
    "\"\"\""
   ]
  },
  {
   "cell_type": "code",
   "execution_count": null,
   "id": "bb8da243-064a-4fe8-b3db-dfcc4028d369",
   "metadata": {},
   "outputs": [],
   "source": [
    "#a=50,b=25"
   ]
  }
 ],
 "metadata": {
  "kernelspec": {
   "display_name": "Python 3 (ipykernel)",
   "language": "python",
   "name": "python3"
  },
  "language_info": {
   "codemirror_mode": {
    "name": "ipython",
    "version": 3
   },
   "file_extension": ".py",
   "mimetype": "text/x-python",
   "name": "python",
   "nbconvert_exporter": "python",
   "pygments_lexer": "ipython3",
   "version": "3.9.6"
  }
 },
 "nbformat": 4,
 "nbformat_minor": 5
}
